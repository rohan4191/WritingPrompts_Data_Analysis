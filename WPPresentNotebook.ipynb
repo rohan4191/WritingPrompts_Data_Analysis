{
 "cells": [
  {
   "cell_type": "markdown",
   "id": "c5a22d19",
   "metadata": {},
   "source": [
    "# Analyzing posts from r/WritingPrompts\n",
    "\n",
    "Created in 2010, r/WritingPrompts has grown to become one of the largest subreddits on the platform, with over 15 million members.\n",
    "\n",
    "Over a decade, hundreds of thousands of prompts have been coallated in this subreddit, offering an interesting corpus of text to examine.\n",
    "\n",
    "This notebook will seek to examine the frequency of word usage in the subreddit over time, and also attempt to predict the score of a particular post based on it's text\n",
    "\n"
   ]
  },
  {
   "cell_type": "code",
   "execution_count": 1,
   "id": "900d708f",
   "metadata": {},
   "outputs": [],
   "source": [
    "# IMPORTS\n",
    "import pandas as pd\n",
    "import numpy as np\n",
    "import regex as re\n",
    "from nltk.corpus import stopwords\n",
    "from collections import Counter\n",
    "import matplotlib.pyplot as plt\n",
    "import seaborn as sns\n",
    "from wordcloud import WordCloud\n",
    "import spacy\n",
    "from nltk.stem import WordNetLemmatizer\n",
    "from nltk import download\n",
    "import nltk\n",
    "\n",
    "from sklearn.model_selection import cross_val_score, train_test_split\n",
    "from sklearn.feature_extraction.text import CountVectorizer, TfidfVectorizer, TfidfTransformer\n",
    "from sklearn.linear_model import LogisticRegression\n",
    "from sklearn.metrics import confusion_matrix\n",
    "from xgboost import XGBClassifier"
   ]
  },
  {
   "cell_type": "markdown",
   "id": "46b5a82e",
   "metadata": {},
   "source": [
    "# Data preparation and visualization"
   ]
  },
  {
   "cell_type": "code",
   "execution_count": 2,
   "id": "904b4e0a",
   "metadata": {},
   "outputs": [
    {
     "name": "stdout",
     "output_type": "stream",
     "text": [
      "(876845, 4)\n"
     ]
    },
    {
     "data": {
      "text/html": [
       "<div>\n",
       "<style scoped>\n",
       "    .dataframe tbody tr th:only-of-type {\n",
       "        vertical-align: middle;\n",
       "    }\n",
       "\n",
       "    .dataframe tbody tr th {\n",
       "        vertical-align: top;\n",
       "    }\n",
       "\n",
       "    .dataframe thead th {\n",
       "        text-align: right;\n",
       "    }\n",
       "</style>\n",
       "<table border=\"1\" class=\"dataframe\">\n",
       "  <thead>\n",
       "    <tr style=\"text-align: right;\">\n",
       "      <th></th>\n",
       "      <th>title</th>\n",
       "      <th>utc</th>\n",
       "      <th>num_comments</th>\n",
       "      <th>score</th>\n",
       "    </tr>\n",
       "  </thead>\n",
       "  <tbody>\n",
       "    <tr>\n",
       "      <th>0</th>\n",
       "      <td>[WP] Waking up from a hangover, you find yours...</td>\n",
       "      <td>1624815759</td>\n",
       "      <td>1</td>\n",
       "      <td>1</td>\n",
       "    </tr>\n",
       "    <tr>\n",
       "      <th>1</th>\n",
       "      <td>[WP] You are born a pied piper. Playing your i...</td>\n",
       "      <td>1624815706</td>\n",
       "      <td>1</td>\n",
       "      <td>1</td>\n",
       "    </tr>\n",
       "    <tr>\n",
       "      <th>2</th>\n",
       "      <td>[WP] you see a floating countdown over every p...</td>\n",
       "      <td>1624815642</td>\n",
       "      <td>1</td>\n",
       "      <td>1</td>\n",
       "    </tr>\n",
       "    <tr>\n",
       "      <th>3</th>\n",
       "      <td>[WP] You are a traffic light, witnessing human...</td>\n",
       "      <td>1624814841</td>\n",
       "      <td>1</td>\n",
       "      <td>1</td>\n",
       "    </tr>\n",
       "    <tr>\n",
       "      <th>4</th>\n",
       "      <td>Newbie</td>\n",
       "      <td>1624814205</td>\n",
       "      <td>1</td>\n",
       "      <td>1</td>\n",
       "    </tr>\n",
       "    <tr>\n",
       "      <th>...</th>\n",
       "      <td>...</td>\n",
       "      <td>...</td>\n",
       "      <td>...</td>\n",
       "      <td>...</td>\n",
       "    </tr>\n",
       "    <tr>\n",
       "      <th>876835</th>\n",
       "      <td>On A Related Note: Any Idea Why I Had This For...</td>\n",
       "      <td>1304385556</td>\n",
       "      <td>0</td>\n",
       "      <td>1</td>\n",
       "    </tr>\n",
       "    <tr>\n",
       "      <th>876836</th>\n",
       "      <td>Writing Excuses Brainstorms Urban Fantasy with...</td>\n",
       "      <td>1304385464</td>\n",
       "      <td>0</td>\n",
       "      <td>1</td>\n",
       "    </tr>\n",
       "    <tr>\n",
       "      <th>876837</th>\n",
       "      <td>Haiku?</td>\n",
       "      <td>1285132191</td>\n",
       "      <td>0</td>\n",
       "      <td>1</td>\n",
       "    </tr>\n",
       "    <tr>\n",
       "      <th>876838</th>\n",
       "      <td>Find your character (no. 2): Who's sitting in ...</td>\n",
       "      <td>1284414070</td>\n",
       "      <td>2</td>\n",
       "      <td>3</td>\n",
       "    </tr>\n",
       "    <tr>\n",
       "      <th>876839</th>\n",
       "      <td>Write a Pep talk from your literary idol.</td>\n",
       "      <td>1284340354</td>\n",
       "      <td>0</td>\n",
       "      <td>3</td>\n",
       "    </tr>\n",
       "  </tbody>\n",
       "</table>\n",
       "<p>876840 rows × 4 columns</p>\n",
       "</div>"
      ],
      "text/plain": [
       "                                                    title         utc  \\\n",
       "0       [WP] Waking up from a hangover, you find yours...  1624815759   \n",
       "1       [WP] You are born a pied piper. Playing your i...  1624815706   \n",
       "2       [WP] you see a floating countdown over every p...  1624815642   \n",
       "3       [WP] You are a traffic light, witnessing human...  1624814841   \n",
       "4                                                  Newbie  1624814205   \n",
       "...                                                   ...         ...   \n",
       "876835  On A Related Note: Any Idea Why I Had This For...  1304385556   \n",
       "876836  Writing Excuses Brainstorms Urban Fantasy with...  1304385464   \n",
       "876837                                             Haiku?  1285132191   \n",
       "876838  Find your character (no. 2): Who's sitting in ...  1284414070   \n",
       "876839          Write a Pep talk from your literary idol.  1284340354   \n",
       "\n",
       "        num_comments  score  \n",
       "0                  1      1  \n",
       "1                  1      1  \n",
       "2                  1      1  \n",
       "3                  1      1  \n",
       "4                  1      1  \n",
       "...              ...    ...  \n",
       "876835             0      1  \n",
       "876836             0      1  \n",
       "876837             0      1  \n",
       "876838             2      3  \n",
       "876839             0      3  \n",
       "\n",
       "[876840 rows x 4 columns]"
      ]
     },
     "execution_count": 2,
     "metadata": {},
     "output_type": "execute_result"
    }
   ],
   "source": [
    "# Importing data collected in another notebook for speed\n",
    "df = pd.read_csv(\"WPData.csv\", index_col=0)\n",
    "print(df.shape)\n",
    "df.head(-5)"
   ]
  },
  {
   "cell_type": "code",
   "execution_count": 3,
   "id": "26d78879",
   "metadata": {
    "scrolled": false
   },
   "outputs": [
    {
     "name": "stdout",
     "output_type": "stream",
     "text": [
      "(656332, 4)\n"
     ]
    },
    {
     "data": {
      "text/html": [
       "<div>\n",
       "<style scoped>\n",
       "    .dataframe tbody tr th:only-of-type {\n",
       "        vertical-align: middle;\n",
       "    }\n",
       "\n",
       "    .dataframe tbody tr th {\n",
       "        vertical-align: top;\n",
       "    }\n",
       "\n",
       "    .dataframe thead th {\n",
       "        text-align: right;\n",
       "    }\n",
       "</style>\n",
       "<table border=\"1\" class=\"dataframe\">\n",
       "  <thead>\n",
       "    <tr style=\"text-align: right;\">\n",
       "      <th></th>\n",
       "      <th>title</th>\n",
       "      <th>utc</th>\n",
       "      <th>num_comments</th>\n",
       "      <th>score</th>\n",
       "    </tr>\n",
       "  </thead>\n",
       "  <tbody>\n",
       "    <tr>\n",
       "      <th>0</th>\n",
       "      <td>[WP] Waking up from a hangover, you find yours...</td>\n",
       "      <td>1624815759</td>\n",
       "      <td>1</td>\n",
       "      <td>1</td>\n",
       "    </tr>\n",
       "    <tr>\n",
       "      <th>1</th>\n",
       "      <td>[WP] You are born a pied piper. Playing your i...</td>\n",
       "      <td>1624815706</td>\n",
       "      <td>1</td>\n",
       "      <td>1</td>\n",
       "    </tr>\n",
       "    <tr>\n",
       "      <th>2</th>\n",
       "      <td>[WP] you see a floating countdown over every p...</td>\n",
       "      <td>1624815642</td>\n",
       "      <td>1</td>\n",
       "      <td>1</td>\n",
       "    </tr>\n",
       "    <tr>\n",
       "      <th>3</th>\n",
       "      <td>[WP] You are a traffic light, witnessing human...</td>\n",
       "      <td>1624814841</td>\n",
       "      <td>1</td>\n",
       "      <td>1</td>\n",
       "    </tr>\n",
       "    <tr>\n",
       "      <th>6</th>\n",
       "      <td>[WP] In the distant future, you are born to a ...</td>\n",
       "      <td>1624812320</td>\n",
       "      <td>1</td>\n",
       "      <td>1</td>\n",
       "    </tr>\n",
       "    <tr>\n",
       "      <th>...</th>\n",
       "      <td>...</td>\n",
       "      <td>...</td>\n",
       "      <td>...</td>\n",
       "      <td>...</td>\n",
       "    </tr>\n",
       "    <tr>\n",
       "      <th>876744</th>\n",
       "      <td>[WP]  The Needs of the Many</td>\n",
       "      <td>1344646528</td>\n",
       "      <td>4</td>\n",
       "      <td>3</td>\n",
       "    </tr>\n",
       "    <tr>\n",
       "      <th>876748</th>\n",
       "      <td>[WP] The Final Entry In The Journal</td>\n",
       "      <td>1344610436</td>\n",
       "      <td>9</td>\n",
       "      <td>8</td>\n",
       "    </tr>\n",
       "    <tr>\n",
       "      <th>876750</th>\n",
       "      <td>[WP]/[PI] Different Perspectives on Biblical S...</td>\n",
       "      <td>1344603330</td>\n",
       "      <td>4</td>\n",
       "      <td>4</td>\n",
       "    </tr>\n",
       "    <tr>\n",
       "      <th>876759</th>\n",
       "      <td>[WP] Incorporate the sentence anywhere: \"Even ...</td>\n",
       "      <td>1344569132</td>\n",
       "      <td>15</td>\n",
       "      <td>6</td>\n",
       "    </tr>\n",
       "    <tr>\n",
       "      <th>876762</th>\n",
       "      <td>[WP]/[PI] - Lost in the Desert</td>\n",
       "      <td>1344555351</td>\n",
       "      <td>2</td>\n",
       "      <td>5</td>\n",
       "    </tr>\n",
       "  </tbody>\n",
       "</table>\n",
       "<p>656327 rows × 4 columns</p>\n",
       "</div>"
      ],
      "text/plain": [
       "                                                    title         utc  \\\n",
       "0       [WP] Waking up from a hangover, you find yours...  1624815759   \n",
       "1       [WP] You are born a pied piper. Playing your i...  1624815706   \n",
       "2       [WP] you see a floating countdown over every p...  1624815642   \n",
       "3       [WP] You are a traffic light, witnessing human...  1624814841   \n",
       "6       [WP] In the distant future, you are born to a ...  1624812320   \n",
       "...                                                   ...         ...   \n",
       "876744                        [WP]  The Needs of the Many  1344646528   \n",
       "876748                [WP] The Final Entry In The Journal  1344610436   \n",
       "876750  [WP]/[PI] Different Perspectives on Biblical S...  1344603330   \n",
       "876759  [WP] Incorporate the sentence anywhere: \"Even ...  1344569132   \n",
       "876762                     [WP]/[PI] - Lost in the Desert  1344555351   \n",
       "\n",
       "        num_comments  score  \n",
       "0                  1      1  \n",
       "1                  1      1  \n",
       "2                  1      1  \n",
       "3                  1      1  \n",
       "6                  1      1  \n",
       "...              ...    ...  \n",
       "876744             4      3  \n",
       "876748             9      8  \n",
       "876750             4      4  \n",
       "876759            15      6  \n",
       "876762             2      5  \n",
       "\n",
       "[656327 rows x 4 columns]"
      ]
     },
     "execution_count": 3,
     "metadata": {},
     "output_type": "execute_result"
    }
   ],
   "source": [
    "# Removing all posts not tagged as a writing prompt to get rid of weird data\n",
    "df = df[df['title'].str.contains('[WP]', regex=False)]\n",
    "\n",
    "print(df.shape)\n",
    "df.head(-5)"
   ]
  },
  {
   "cell_type": "markdown",
   "id": "1956ebc5",
   "metadata": {},
   "source": [
    "This reduces the data by quite a bit, but without it we get a lot of spam posts and non-writing prompts. At the inception of the subreddit posts were not exclusively prompts, which throws off the data, so getting rid of all of it seems like the best solution"
   ]
  },
  {
   "cell_type": "code",
   "execution_count": 4,
   "id": "8db38557",
   "metadata": {},
   "outputs": [
    {
     "data": {
      "image/png": "[encoded data removed]",
      "text/plain": [
       "<Figure size 576x432 with 1 Axes>"
      ]
     },
     "metadata": {
      "needs_background": "light"
     },
     "output_type": "display_data"
    }
   ],
   "source": [
    "# Scatter Plot\n",
    "plt.figure(figsize=(8,6))\n",
    "plt.scatter(df['utc'], df['score'])\n",
    "plt.title(\"Score of Posts Over Time\")\n",
    "plt.ylabel(\"Score\")\n",
    "plt.xlabel(\"Unix Time Stamp\")\n",
    "\n",
    "x = df[\"utc\"]\n",
    "y = df[\"score\"]\n",
    "m, b = np.polyfit(x, y, 1)\n",
    "plt.plot(x, m*x + b)\n",
    "\n",
    "plt.show()"
   ]
  },
  {
   "cell_type": "code",
   "execution_count": 5,
   "id": "38dbe3e7",
   "metadata": {},
   "outputs": [
    {
     "name": "stdout",
     "output_type": "stream",
     "text": [
      "[WP] The year is 1910. Adolf Hitler, a struggling artist, has fought off dozens of assasination attemps by well meaning time travelers, but this one is different. This traveller doesn't want to kill Hitler, he wants to teach him to paint. He pulls off his hood to reveal the frizzy afro of Bob Ross.\n",
      "40.00538751729308\n",
      "42050\n"
     ]
    }
   ],
   "source": [
    "# Looking at top post\n",
    "print(df.loc[df['score'].idxmax(), \"title\"])\n",
    "print(df['score'].mean())\n",
    "print(df['score'].max())"
   ]
  },
  {
   "cell_type": "code",
   "execution_count": 6,
   "id": "00204c16",
   "metadata": {},
   "outputs": [
    {
     "data": {
      "image/png": "[encoded data removed]",
      "text/plain": [
       "<Figure size 576x432 with 1 Axes>"
      ]
     },
     "metadata": {
      "needs_background": "light"
     },
     "output_type": "display_data"
    }
   ],
   "source": [
    "# Scatter Plot\n",
    "plt.figure(figsize=(8,6))\n",
    "plt.scatter(df['utc'], df['num_comments'])\n",
    "plt.title(\"Number of Comment on Posts Over Time\")\n",
    "plt.ylabel(\"Number Comments\")\n",
    "plt.xlabel(\"Unix Time Stamp\")\n",
    "\n",
    "x = df[\"utc\"]\n",
    "y = df[\"num_comments\"]\n",
    "m, b = np.polyfit(x, y, 1)\n",
    "plt.plot(x, m*x + b)\n",
    "\n",
    "plt.show()"
   ]
  },
  {
   "cell_type": "code",
   "execution_count": 7,
   "id": "dd13af67",
   "metadata": {},
   "outputs": [
    {
     "name": "stdout",
     "output_type": "stream",
     "text": [
      "[WP] A day before the Earth is destroyed by a collision with a rouge planet, time freezes. You, a completely normal person are untouched and cannot die. Text on your arm appears that reads, \"however long it takes, save us\".\n",
      "5919\n",
      "4.9987079709659135\n",
      "3151\n"
     ]
    }
   ],
   "source": [
    "# Looking at top commented post\n",
    "print(df.loc[df['num_comments'].idxmax(), \"title\"])\n",
    "print(df.loc[df['num_comments'].idxmax(), \"score\"])\n",
    "print(df['num_comments'].mean())\n",
    "print(df['num_comments'].max())"
   ]
  },
  {
   "cell_type": "markdown",
   "id": "5bdf919a",
   "metadata": {},
   "source": [
    "Looking at the reddit post itself, the only notable thing about it that could have been the cause of the abundance of comments is one particular thread, where a single reddit user wrote a very lengthy story over the course of 20+ comments that was very popular"
   ]
  },
  {
   "cell_type": "code",
   "execution_count": 8,
   "id": "b796d8c4",
   "metadata": {},
   "outputs": [],
   "source": [
    "### BASIC PREPROCESSING ###\n",
    "\n",
    "# Remove punctuation\n",
    "df['title'] = df['title'].str.replace(r'[^\\w\\s]+', '')\n",
    "\n",
    "# Convert to lowercase\n",
    "df[\"title\"] = df[\"title\"].str.lower()\n",
    "\n",
    "# Remove digits\n",
    "df['title'] = df['title'].str.replace('\\d+', '')\n",
    "\n",
    "# Remove the \"wp\" and \"wppi\" at the start of posts\n",
    "df['title'] = df['title'].str.replace('wp ', '')\n",
    "df['title'] = df['title'].str.replace('wppi ', '')"
   ]
  },
  {
   "cell_type": "code",
   "execution_count": 9,
   "id": "c4d871be",
   "metadata": {},
   "outputs": [
    {
     "data": {
      "text/html": [
       "<div>\n",
       "<style scoped>\n",
       "    .dataframe tbody tr th:only-of-type {\n",
       "        vertical-align: middle;\n",
       "    }\n",
       "\n",
       "    .dataframe tbody tr th {\n",
       "        vertical-align: top;\n",
       "    }\n",
       "\n",
       "    .dataframe thead th {\n",
       "        text-align: right;\n",
       "    }\n",
       "</style>\n",
       "<table border=\"1\" class=\"dataframe\">\n",
       "  <thead>\n",
       "    <tr style=\"text-align: right;\">\n",
       "      <th></th>\n",
       "      <th>title</th>\n",
       "      <th>utc</th>\n",
       "      <th>num_comments</th>\n",
       "      <th>score</th>\n",
       "    </tr>\n",
       "  </thead>\n",
       "  <tbody>\n",
       "    <tr>\n",
       "      <th>0</th>\n",
       "      <td>waking up from a hangover you find yourself in...</td>\n",
       "      <td>1624815759</td>\n",
       "      <td>1</td>\n",
       "      <td>1</td>\n",
       "    </tr>\n",
       "    <tr>\n",
       "      <th>1</th>\n",
       "      <td>you are born a pied piper playing your instrum...</td>\n",
       "      <td>1624815706</td>\n",
       "      <td>1</td>\n",
       "      <td>1</td>\n",
       "    </tr>\n",
       "    <tr>\n",
       "      <th>2</th>\n",
       "      <td>you see a floating countdown over every person...</td>\n",
       "      <td>1624815642</td>\n",
       "      <td>1</td>\n",
       "      <td>1</td>\n",
       "    </tr>\n",
       "    <tr>\n",
       "      <th>3</th>\n",
       "      <td>you are a traffic light witnessing human lives...</td>\n",
       "      <td>1624814841</td>\n",
       "      <td>1</td>\n",
       "      <td>1</td>\n",
       "    </tr>\n",
       "    <tr>\n",
       "      <th>6</th>\n",
       "      <td>in the distant future you are born to a normal...</td>\n",
       "      <td>1624812320</td>\n",
       "      <td>1</td>\n",
       "      <td>1</td>\n",
       "    </tr>\n",
       "    <tr>\n",
       "      <th>...</th>\n",
       "      <td>...</td>\n",
       "      <td>...</td>\n",
       "      <td>...</td>\n",
       "      <td>...</td>\n",
       "    </tr>\n",
       "    <tr>\n",
       "      <th>876744</th>\n",
       "      <td>the needs of the many</td>\n",
       "      <td>1344646528</td>\n",
       "      <td>4</td>\n",
       "      <td>3</td>\n",
       "    </tr>\n",
       "    <tr>\n",
       "      <th>876748</th>\n",
       "      <td>the final entry in the journal</td>\n",
       "      <td>1344610436</td>\n",
       "      <td>9</td>\n",
       "      <td>8</td>\n",
       "    </tr>\n",
       "    <tr>\n",
       "      <th>876750</th>\n",
       "      <td>different perspectives on biblical stories</td>\n",
       "      <td>1344603330</td>\n",
       "      <td>4</td>\n",
       "      <td>4</td>\n",
       "    </tr>\n",
       "    <tr>\n",
       "      <th>876759</th>\n",
       "      <td>incorporate the sentence anywhere even though ...</td>\n",
       "      <td>1344569132</td>\n",
       "      <td>15</td>\n",
       "      <td>6</td>\n",
       "    </tr>\n",
       "    <tr>\n",
       "      <th>876762</th>\n",
       "      <td>lost in the desert</td>\n",
       "      <td>1344555351</td>\n",
       "      <td>2</td>\n",
       "      <td>5</td>\n",
       "    </tr>\n",
       "  </tbody>\n",
       "</table>\n",
       "<p>656327 rows × 4 columns</p>\n",
       "</div>"
      ],
      "text/plain": [
       "                                                    title         utc  \\\n",
       "0       waking up from a hangover you find yourself in...  1624815759   \n",
       "1       you are born a pied piper playing your instrum...  1624815706   \n",
       "2       you see a floating countdown over every person...  1624815642   \n",
       "3       you are a traffic light witnessing human lives...  1624814841   \n",
       "6       in the distant future you are born to a normal...  1624812320   \n",
       "...                                                   ...         ...   \n",
       "876744                              the needs of the many  1344646528   \n",
       "876748                     the final entry in the journal  1344610436   \n",
       "876750         different perspectives on biblical stories  1344603330   \n",
       "876759  incorporate the sentence anywhere even though ...  1344569132   \n",
       "876762                                 lost in the desert  1344555351   \n",
       "\n",
       "        num_comments  score  \n",
       "0                  1      1  \n",
       "1                  1      1  \n",
       "2                  1      1  \n",
       "3                  1      1  \n",
       "6                  1      1  \n",
       "...              ...    ...  \n",
       "876744             4      3  \n",
       "876748             9      8  \n",
       "876750             4      4  \n",
       "876759            15      6  \n",
       "876762             2      5  \n",
       "\n",
       "[656327 rows x 4 columns]"
      ]
     },
     "execution_count": 9,
     "metadata": {},
     "output_type": "execute_result"
    }
   ],
   "source": [
    "df.head(-5)"
   ]
  },
  {
   "cell_type": "code",
   "execution_count": 18,
   "id": "376568f9",
   "metadata": {},
   "outputs": [
    {
     "data": {
      "text/html": [
       "<div>\n",
       "<style scoped>\n",
       "    .dataframe tbody tr th:only-of-type {\n",
       "        vertical-align: middle;\n",
       "    }\n",
       "\n",
       "    .dataframe tbody tr th {\n",
       "        vertical-align: top;\n",
       "    }\n",
       "\n",
       "    .dataframe thead th {\n",
       "        text-align: right;\n",
       "    }\n",
       "</style>\n",
       "<table border=\"1\" class=\"dataframe\">\n",
       "  <thead>\n",
       "    <tr style=\"text-align: right;\">\n",
       "      <th></th>\n",
       "      <th>word</th>\n",
       "      <th>freq</th>\n",
       "    </tr>\n",
       "  </thead>\n",
       "  <tbody>\n",
       "    <tr>\n",
       "      <th>0</th>\n",
       "      <td>one</td>\n",
       "      <td>105194</td>\n",
       "    </tr>\n",
       "    <tr>\n",
       "      <th>1</th>\n",
       "      <td>world</td>\n",
       "      <td>66703</td>\n",
       "    </tr>\n",
       "    <tr>\n",
       "      <th>2</th>\n",
       "      <td>time</td>\n",
       "      <td>61112</td>\n",
       "    </tr>\n",
       "    <tr>\n",
       "      <th>3</th>\n",
       "      <td>day</td>\n",
       "      <td>57859</td>\n",
       "    </tr>\n",
       "    <tr>\n",
       "      <th>4</th>\n",
       "      <td>life</td>\n",
       "      <td>45893</td>\n",
       "    </tr>\n",
       "    <tr>\n",
       "      <th>5</th>\n",
       "      <td>people</td>\n",
       "      <td>43703</td>\n",
       "    </tr>\n",
       "    <tr>\n",
       "      <th>6</th>\n",
       "      <td>find</td>\n",
       "      <td>43044</td>\n",
       "    </tr>\n",
       "    <tr>\n",
       "      <th>7</th>\n",
       "      <td>years</td>\n",
       "      <td>41258</td>\n",
       "    </tr>\n",
       "    <tr>\n",
       "      <th>8</th>\n",
       "      <td>youre</td>\n",
       "      <td>40865</td>\n",
       "    </tr>\n",
       "    <tr>\n",
       "      <th>9</th>\n",
       "      <td>first</td>\n",
       "      <td>35143</td>\n",
       "    </tr>\n",
       "  </tbody>\n",
       "</table>\n",
       "</div>"
      ],
      "text/plain": [
       "     word    freq\n",
       "0     one  105194\n",
       "1   world   66703\n",
       "2    time   61112\n",
       "3     day   57859\n",
       "4    life   45893\n",
       "5  people   43703\n",
       "6    find   43044\n",
       "7   years   41258\n",
       "8   youre   40865\n",
       "9   first   35143"
      ]
     },
     "execution_count": 18,
     "metadata": {},
     "output_type": "execute_result"
    }
   ],
   "source": [
    "# Getting a list of each word in the string of all prompts\n",
    "tokens_stops = \",\".join(df[\"title\"]).split()\n",
    "\n",
    "# Removing stopwords\n",
    "tokens = [token for token in tokens_stops if token not in stopwords.words(\"english\")]\n",
    "\n",
    "# Displaying the top 20 word frequencies in a dataframe\n",
    "df_freq = pd.DataFrame(Counter(tokens).most_common(20), columns=[\"word\", \"freq\"])\n",
    "df_freq.head(10)"
   ]
  },
  {
   "cell_type": "code",
   "execution_count": 19,
   "id": "c82271fe",
   "metadata": {},
   "outputs": [],
   "source": [
    "# Lemmatize the tokens\n",
    "lemmatizer = WordNetLemmatizer()\n",
    "tokens = [lemmatizer.lemmatize(token) for token in tokens]"
   ]
  },
  {
   "cell_type": "code",
   "execution_count": 20,
   "id": "5908a375",
   "metadata": {},
   "outputs": [
    {
     "data": {
      "text/plain": [
       "[('one', 109060),\n",
       " ('world', 74691),\n",
       " ('time', 65994),\n",
       " ('day', 64411),\n",
       " ('year', 63429),\n",
       " ('life', 52977),\n",
       " ('find', 48589),\n",
       " ('human', 48574),\n",
       " ('people', 46617),\n",
       " ('youre', 40865)]"
      ]
     },
     "execution_count": 20,
     "metadata": {},
     "output_type": "execute_result"
    }
   ],
   "source": [
    "# Get most common words\n",
    "Counter(tokens).most_common(10)"
   ]
  },
  {
   "cell_type": "code",
   "execution_count": 21,
   "id": "2a38a610",
   "metadata": {},
   "outputs": [],
   "source": [
    "# Splitting the tokenized lemmatized text into 10 blocks by time\n",
    "\n",
    "timed_tokens = []\n",
    "\n",
    "for i in range(10):\n",
    "    timed_tokens.append(tokens[int(len(tokens)/10)*i : int(len(tokens)/10)*(i+1)])\n",
    "\n",
    "# Reversing it so the earliest chuck comes first\n",
    "timed_tokens.reverse()"
   ]
  },
  {
   "cell_type": "code",
   "execution_count": 22,
   "id": "282bf887",
   "metadata": {},
   "outputs": [],
   "source": [
    "# Counting the words in each chunk of time\n",
    "\n",
    "count_list = []\n",
    "\n",
    "for text in timed_tokens:\n",
    "    \n",
    "    text_common = Counter(text).most_common(1000)\n",
    "    \n",
    "    count_list.append(text_common)"
   ]
  },
  {
   "cell_type": "code",
   "execution_count": 23,
   "id": "c08e9d1c",
   "metadata": {},
   "outputs": [
    {
     "data": {
      "text/html": [
       "<div>\n",
       "<style scoped>\n",
       "    .dataframe tbody tr th:only-of-type {\n",
       "        vertical-align: middle;\n",
       "    }\n",
       "\n",
       "    .dataframe tbody tr th {\n",
       "        vertical-align: top;\n",
       "    }\n",
       "\n",
       "    .dataframe thead th {\n",
       "        text-align: right;\n",
       "    }\n",
       "</style>\n",
       "<table border=\"1\" class=\"dataframe\">\n",
       "  <thead>\n",
       "    <tr style=\"text-align: right;\">\n",
       "      <th></th>\n",
       "      <th>split0</th>\n",
       "      <th>split1</th>\n",
       "      <th>split2</th>\n",
       "      <th>split3</th>\n",
       "      <th>split4</th>\n",
       "      <th>split5</th>\n",
       "      <th>split6</th>\n",
       "      <th>split7</th>\n",
       "      <th>split8</th>\n",
       "      <th>split9</th>\n",
       "    </tr>\n",
       "  </thead>\n",
       "  <tbody>\n",
       "    <tr>\n",
       "      <th>0</th>\n",
       "      <td>(one, 9888)</td>\n",
       "      <td>(one, 9824)</td>\n",
       "      <td>(one, 10679)</td>\n",
       "      <td>(one, 11073)</td>\n",
       "      <td>(one, 10873)</td>\n",
       "      <td>(one, 11708)</td>\n",
       "      <td>(one, 11627)</td>\n",
       "      <td>(one, 11392)</td>\n",
       "      <td>(one, 11299)</td>\n",
       "      <td>(one, 10697)</td>\n",
       "    </tr>\n",
       "    <tr>\n",
       "      <th>1</th>\n",
       "      <td>(world, 7954)</td>\n",
       "      <td>(world, 7901)</td>\n",
       "      <td>(world, 7999)</td>\n",
       "      <td>(world, 7816)</td>\n",
       "      <td>(world, 7484)</td>\n",
       "      <td>(world, 7491)</td>\n",
       "      <td>(day, 7172)</td>\n",
       "      <td>(world, 6975)</td>\n",
       "      <td>(world, 7265)</td>\n",
       "      <td>(world, 6805)</td>\n",
       "    </tr>\n",
       "    <tr>\n",
       "      <th>2</th>\n",
       "      <td>(year, 6391)</td>\n",
       "      <td>(time, 6495)</td>\n",
       "      <td>(time, 7174)</td>\n",
       "      <td>(time, 6964)</td>\n",
       "      <td>(time, 6725)</td>\n",
       "      <td>(day, 7145)</td>\n",
       "      <td>(world, 7001)</td>\n",
       "      <td>(day, 6756)</td>\n",
       "      <td>(time, 6319)</td>\n",
       "      <td>(time, 6270)</td>\n",
       "    </tr>\n",
       "    <tr>\n",
       "      <th>3</th>\n",
       "      <td>(day, 5976)</td>\n",
       "      <td>(year, 6358)</td>\n",
       "      <td>(year, 6858)</td>\n",
       "      <td>(day, 6875)</td>\n",
       "      <td>(day, 6601)</td>\n",
       "      <td>(time, 6999)</td>\n",
       "      <td>(time, 6656)</td>\n",
       "      <td>(time, 6433)</td>\n",
       "      <td>(day, 6208)</td>\n",
       "      <td>(year, 5837)</td>\n",
       "    </tr>\n",
       "    <tr>\n",
       "      <th>4</th>\n",
       "      <td>(time, 5959)</td>\n",
       "      <td>(day, 5722)</td>\n",
       "      <td>(day, 6413)</td>\n",
       "      <td>(year, 6298)</td>\n",
       "      <td>(year, 6480)</td>\n",
       "      <td>(year, 6406)</td>\n",
       "      <td>(year, 6593)</td>\n",
       "      <td>(year, 6088)</td>\n",
       "      <td>(year, 6120)</td>\n",
       "      <td>(day, 5543)</td>\n",
       "    </tr>\n",
       "    <tr>\n",
       "      <th>5</th>\n",
       "      <td>(life, 5924)</td>\n",
       "      <td>(life, 5336)</td>\n",
       "      <td>(life, 5587)</td>\n",
       "      <td>(life, 5556)</td>\n",
       "      <td>(life, 5343)</td>\n",
       "      <td>(life, 5479)</td>\n",
       "      <td>(life, 5173)</td>\n",
       "      <td>(life, 5128)</td>\n",
       "      <td>(human, 5204)</td>\n",
       "      <td>(human, 5304)</td>\n",
       "    </tr>\n",
       "    <tr>\n",
       "      <th>6</th>\n",
       "      <td>(find, 5500)</td>\n",
       "      <td>(human, 4663)</td>\n",
       "      <td>(find, 5105)</td>\n",
       "      <td>(find, 5073)</td>\n",
       "      <td>(human, 5075)</td>\n",
       "      <td>(find, 4822)</td>\n",
       "      <td>(youre, 4934)</td>\n",
       "      <td>(human, 4987)</td>\n",
       "      <td>(life, 4835)</td>\n",
       "      <td>(life, 4616)</td>\n",
       "    </tr>\n",
       "    <tr>\n",
       "      <th>7</th>\n",
       "      <td>(man, 5232)</td>\n",
       "      <td>(find, 4660)</td>\n",
       "      <td>(people, 4850)</td>\n",
       "      <td>(people, 4794)</td>\n",
       "      <td>(find, 5045)</td>\n",
       "      <td>(human, 4821)</td>\n",
       "      <td>(people, 4821)</td>\n",
       "      <td>(youre, 4928)</td>\n",
       "      <td>(people, 4829)</td>\n",
       "      <td>(people, 4514)</td>\n",
       "    </tr>\n",
       "    <tr>\n",
       "      <th>8</th>\n",
       "      <td>(story, 5064)</td>\n",
       "      <td>(people, 4619)</td>\n",
       "      <td>(human, 4426)</td>\n",
       "      <td>(human, 4473)</td>\n",
       "      <td>(people, 4502)</td>\n",
       "      <td>(youre, 4754)</td>\n",
       "      <td>(human, 4747)</td>\n",
       "      <td>(people, 4777)</td>\n",
       "      <td>(find, 4568)</td>\n",
       "      <td>(youre, 4491)</td>\n",
       "    </tr>\n",
       "    <tr>\n",
       "      <th>9</th>\n",
       "      <td>(human, 4874)</td>\n",
       "      <td>(story, 4207)</td>\n",
       "      <td>(get, 4159)</td>\n",
       "      <td>(get, 4233)</td>\n",
       "      <td>(youre, 4121)</td>\n",
       "      <td>(people, 4700)</td>\n",
       "      <td>(find, 4740)</td>\n",
       "      <td>(find, 4703)</td>\n",
       "      <td>(youre, 4536)</td>\n",
       "      <td>(find, 4373)</td>\n",
       "    </tr>\n",
       "  </tbody>\n",
       "</table>\n",
       "</div>"
      ],
      "text/plain": [
       "          split0          split1          split2          split3  \\\n",
       "0    (one, 9888)     (one, 9824)    (one, 10679)    (one, 11073)   \n",
       "1  (world, 7954)   (world, 7901)   (world, 7999)   (world, 7816)   \n",
       "2   (year, 6391)    (time, 6495)    (time, 7174)    (time, 6964)   \n",
       "3    (day, 5976)    (year, 6358)    (year, 6858)     (day, 6875)   \n",
       "4   (time, 5959)     (day, 5722)     (day, 6413)    (year, 6298)   \n",
       "5   (life, 5924)    (life, 5336)    (life, 5587)    (life, 5556)   \n",
       "6   (find, 5500)   (human, 4663)    (find, 5105)    (find, 5073)   \n",
       "7    (man, 5232)    (find, 4660)  (people, 4850)  (people, 4794)   \n",
       "8  (story, 5064)  (people, 4619)   (human, 4426)   (human, 4473)   \n",
       "9  (human, 4874)   (story, 4207)     (get, 4159)     (get, 4233)   \n",
       "\n",
       "           split4          split5          split6          split7  \\\n",
       "0    (one, 10873)    (one, 11708)    (one, 11627)    (one, 11392)   \n",
       "1   (world, 7484)   (world, 7491)     (day, 7172)   (world, 6975)   \n",
       "2    (time, 6725)     (day, 7145)   (world, 7001)     (day, 6756)   \n",
       "3     (day, 6601)    (time, 6999)    (time, 6656)    (time, 6433)   \n",
       "4    (year, 6480)    (year, 6406)    (year, 6593)    (year, 6088)   \n",
       "5    (life, 5343)    (life, 5479)    (life, 5173)    (life, 5128)   \n",
       "6   (human, 5075)    (find, 4822)   (youre, 4934)   (human, 4987)   \n",
       "7    (find, 5045)   (human, 4821)  (people, 4821)   (youre, 4928)   \n",
       "8  (people, 4502)   (youre, 4754)   (human, 4747)  (people, 4777)   \n",
       "9   (youre, 4121)  (people, 4700)    (find, 4740)    (find, 4703)   \n",
       "\n",
       "           split8          split9  \n",
       "0    (one, 11299)    (one, 10697)  \n",
       "1   (world, 7265)   (world, 6805)  \n",
       "2    (time, 6319)    (time, 6270)  \n",
       "3     (day, 6208)    (year, 5837)  \n",
       "4    (year, 6120)     (day, 5543)  \n",
       "5   (human, 5204)   (human, 5304)  \n",
       "6    (life, 4835)    (life, 4616)  \n",
       "7  (people, 4829)  (people, 4514)  \n",
       "8    (find, 4568)   (youre, 4491)  \n",
       "9   (youre, 4536)    (find, 4373)  "
      ]
     },
     "execution_count": 23,
     "metadata": {},
     "output_type": "execute_result"
    }
   ],
   "source": [
    "# Creating a dataframe of most common words in each block of time\n",
    "\n",
    "df_counts = pd.DataFrame()\n",
    "\n",
    "for i, vals in enumerate(count_list):\n",
    "    df_counts[f\"split{i}\"] = vals\n",
    "\n",
    "df_counts.head(10)"
   ]
  },
  {
   "cell_type": "code",
   "execution_count": 24,
   "id": "9226f560",
   "metadata": {},
   "outputs": [],
   "source": [
    "# Creating a dictionary of the word counts in each bin of time\n",
    "count_list_dict = [dict(time) for time in count_list]\n",
    "\n",
    "# Function to plot the word counts in each time bin as a line chart\n",
    "def plot_word(word):\n",
    "    \n",
    "    count_vals = []\n",
    "    \n",
    "    for block in count_list_dict:\n",
    "        try:\n",
    "            count_vals.append(block[word])\n",
    "        except KeyError:\n",
    "            count_vals.append(0)\n",
    "    \n",
    "    print(count_vals)\n",
    "    plt.plot(count_vals)\n",
    "    \n",
    "    plt.show()"
   ]
  },
  {
   "cell_type": "code",
   "execution_count": 25,
   "id": "227e4022",
   "metadata": {},
   "outputs": [
    {
     "name": "stdout",
     "output_type": "stream",
     "text": [
      "[9888, 9824, 10679, 11073, 10873, 11708, 11627, 11392, 11299, 10697]\n"
     ]
    },
    {
     "data": {
      "image/png": "[encoded data removed]",
      "text/plain": [
       "<Figure size 432x288 with 1 Axes>"
      ]
     },
     "metadata": {
      "needs_background": "light"
     },
     "output_type": "display_data"
    }
   ],
   "source": [
    "plot_word(\"one\")"
   ]
  },
  {
   "cell_type": "code",
   "execution_count": 26,
   "id": "33180c50",
   "metadata": {},
   "outputs": [
    {
     "name": "stdout",
     "output_type": "stream",
     "text": [
      "[4874, 4663, 4426, 4473, 5075, 4821, 4747, 4987, 5204, 5304]\n"
     ]
    },
    {
     "data": {
      "image/png": "[encoded data removed]",
      "text/plain": [
       "<Figure size 432x288 with 1 Axes>"
      ]
     },
     "metadata": {
      "needs_background": "light"
     },
     "output_type": "display_data"
    }
   ],
   "source": [
    "plot_word(\"human\")"
   ]
  },
  {
   "cell_type": "code",
   "execution_count": 27,
   "id": "d767836e",
   "metadata": {
    "scrolled": false
   },
   "outputs": [
    {
     "name": "stdout",
     "output_type": "stream",
     "text": [
      "[0, 978, 1067, 736, 398, 268, 0, 0, 0, 0]\n"
     ]
    },
    {
     "data": {
      "image/png": "[encoded data removed]",
      "text/plain": [
       "<Figure size 432x288 with 1 Axes>"
      ]
     },
     "metadata": {
      "needs_background": "light"
     },
     "output_type": "display_data"
    }
   ],
   "source": [
    "plot_word(\"trump\")"
   ]
  },
  {
   "cell_type": "markdown",
   "id": "9101bb9f",
   "metadata": {},
   "source": [
    "The absolute cratering of the word \"Trump\" is a little surprising. Though of course he has fallen out of the popular consciousness, this could suggest that moderators now regularly remove posts that feature the word."
   ]
  },
  {
   "cell_type": "code",
   "execution_count": 32,
   "id": "55d62d60",
   "metadata": {},
   "outputs": [
    {
     "name": "stdout",
     "output_type": "stream",
     "text": [
      "[292, 275, 267, 177, 216, 216, 221, 219, 504, 228]\n"
     ]
    },
    {
     "data": {
      "image/png": "[encoded data removed]",
      "text/plain": [
       "<Figure size 432x288 with 1 Axes>"
      ]
     },
     "metadata": {
      "needs_background": "light"
     },
     "output_type": "display_data"
    }
   ],
   "source": [
    "plot_word(\"virus\")"
   ]
  },
  {
   "cell_type": "code",
   "execution_count": 28,
   "id": "c38f3dda",
   "metadata": {},
   "outputs": [
    {
     "data": {
      "image/png": "[encoded data removed]",
      "text/plain": [
       "<Figure size 432x288 with 1 Axes>"
      ]
     },
     "metadata": {
      "needs_background": "light"
     },
     "output_type": "display_data"
    }
   ],
   "source": [
    "# Word cloud with bigrams\n",
    "wordcloud = WordCloud(background_color=\"white\", max_words = 50).generate(\",\".join(tokens))\n",
    "plt.imshow(wordcloud, interpolation='bilinear')\n",
    "plt.axis(\"off\")\n",
    "plt.show()"
   ]
  },
  {
   "cell_type": "code",
   "execution_count": 29,
   "id": "1e858a50",
   "metadata": {},
   "outputs": [
    {
     "data": {
      "image/png": "[encoded data removed]",
      "text/plain": [
       "<Figure size 432x288 with 1 Axes>"
      ]
     },
     "metadata": {
      "needs_background": "light"
     },
     "output_type": "display_data"
    }
   ],
   "source": [
    "# Word cloud without bigrams\n",
    "wordcloud = WordCloud(background_color=\"white\", max_words = 50, collocations = False).generate(\",\".join(tokens))\n",
    "plt.imshow(wordcloud, interpolation='bilinear')\n",
    "plt.axis(\"off\")\n",
    "plt.show()"
   ]
  },
  {
   "cell_type": "markdown",
   "id": "ba1924ea",
   "metadata": {},
   "source": [
    "# Machine Learning"
   ]
  },
  {
   "cell_type": "code",
   "execution_count": 10,
   "id": "66a9a875",
   "metadata": {},
   "outputs": [
    {
     "name": "stderr",
     "output_type": "stream",
     "text": [
      "C:\\Users\\Rohan\\Python\\lib\\site-packages\\ipykernel_launcher.py:2: SettingWithCopyWarning: \n",
      "A value is trying to be set on a copy of a slice from a DataFrame.\n",
      "Try using .loc[row_indexer,col_indexer] = value instead\n",
      "\n",
      "See the caveats in the documentation: https://pandas.pydata.org/pandas-docs/stable/user_guide/indexing.html#returning-a-view-versus-a-copy\n",
      "  \n"
     ]
    },
    {
     "data": {
      "text/html": [
       "<div>\n",
       "<style scoped>\n",
       "    .dataframe tbody tr th:only-of-type {\n",
       "        vertical-align: middle;\n",
       "    }\n",
       "\n",
       "    .dataframe tbody tr th {\n",
       "        vertical-align: top;\n",
       "    }\n",
       "\n",
       "    .dataframe thead th {\n",
       "        text-align: right;\n",
       "    }\n",
       "</style>\n",
       "<table border=\"1\" class=\"dataframe\">\n",
       "  <thead>\n",
       "    <tr style=\"text-align: right;\">\n",
       "      <th></th>\n",
       "      <th>title</th>\n",
       "      <th>score</th>\n",
       "    </tr>\n",
       "  </thead>\n",
       "  <tbody>\n",
       "    <tr>\n",
       "      <th>0</th>\n",
       "      <td>waking up from a hangover you find yourself in...</td>\n",
       "      <td>bad</td>\n",
       "    </tr>\n",
       "    <tr>\n",
       "      <th>1</th>\n",
       "      <td>you are born a pied piper playing your instrum...</td>\n",
       "      <td>bad</td>\n",
       "    </tr>\n",
       "    <tr>\n",
       "      <th>2</th>\n",
       "      <td>you see a floating countdown over every person...</td>\n",
       "      <td>bad</td>\n",
       "    </tr>\n",
       "    <tr>\n",
       "      <th>3</th>\n",
       "      <td>you are a traffic light witnessing human lives...</td>\n",
       "      <td>bad</td>\n",
       "    </tr>\n",
       "    <tr>\n",
       "      <th>6</th>\n",
       "      <td>in the distant future you are born to a normal...</td>\n",
       "      <td>bad</td>\n",
       "    </tr>\n",
       "  </tbody>\n",
       "</table>\n",
       "</div>"
      ],
      "text/plain": [
       "                                               title score\n",
       "0  waking up from a hangover you find yourself in...   bad\n",
       "1  you are born a pied piper playing your instrum...   bad\n",
       "2  you see a floating countdown over every person...   bad\n",
       "3  you are a traffic light witnessing human lives...   bad\n",
       "6  in the distant future you are born to a normal...   bad"
      ]
     },
     "execution_count": 10,
     "metadata": {},
     "output_type": "execute_result"
    }
   ],
   "source": [
    "# Feature engineering to turn the data into classification - easier to construct a model that way\n",
    "\n",
    "df_class = df[[\"title\", \"score\"]]\n",
    "df_class[\"score\"] = np.where(df_class[\"score\"] > 1, \"good\", \"bad\")\n",
    "df_class.head()"
   ]
  },
  {
   "cell_type": "code",
   "execution_count": 11,
   "id": "e029d261",
   "metadata": {
    "scrolled": true
   },
   "outputs": [
    {
     "data": {
      "text/plain": [
       "good    348589\n",
       "bad     307743\n",
       "Name: score, dtype: int64"
      ]
     },
     "execution_count": 11,
     "metadata": {},
     "output_type": "execute_result"
    }
   ],
   "source": [
    "df_class[\"score\"].value_counts()"
   ]
  },
  {
   "cell_type": "markdown",
   "id": "cc6263c6",
   "metadata": {},
   "source": [
    "This gives a fairly well-balanced dataset"
   ]
  },
  {
   "cell_type": "code",
   "execution_count": 12,
   "id": "cc7bbbab",
   "metadata": {},
   "outputs": [],
   "source": [
    "X = df_class[\"title\"]\n",
    "y = df_class[\"score\"]"
   ]
  },
  {
   "cell_type": "code",
   "execution_count": 13,
   "id": "6d05ac21",
   "metadata": {
    "scrolled": false
   },
   "outputs": [
    {
     "data": {
      "text/plain": [
       "0.5673104465422987"
      ]
     },
     "execution_count": 13,
     "metadata": {},
     "output_type": "execute_result"
    }
   ],
   "source": [
    "### CREATING THE MODEL ###\n",
    "\n",
    "# Traintestsplit the data\n",
    "X_train, X_test, y_train, y_test = train_test_split(X, y)\n",
    "\n",
    "# Get tfidf values\n",
    "tfidf = TfidfVectorizer()\n",
    "tfidf.fit(X)\n",
    "X_train = tfidf.transform(X_train)\n",
    "X_test = tfidf.transform(X_test)\n",
    "\n",
    "# Build and test the classifier\n",
    "logit_class = LogisticRegression(max_iter=500)\n",
    "model = logit_class.fit(X_train, y_train)\n",
    "model.score(X_test, y_test)"
   ]
  },
  {
   "cell_type": "code",
   "execution_count": 14,
   "id": "33b1e110",
   "metadata": {},
   "outputs": [
    {
     "data": {
      "text/plain": [
       "array([[31612, 45315],\n",
       "       [25682, 61474]], dtype=int64)"
      ]
     },
     "execution_count": 14,
     "metadata": {},
     "output_type": "execute_result"
    }
   ],
   "source": [
    "# Get the confusion matrix on its predictions\n",
    "\n",
    "y_pred = model.predict(X_test)\n",
    "\n",
    "confusion_matrix(y_test, y_pred)"
   ]
  },
  {
   "cell_type": "markdown",
   "id": "bef253bc",
   "metadata": {},
   "source": [
    "As the confusion matrix above shows, the model is best at detecting posts that will fall into the \"bad\" category, that is to say with 1 or less upvotes.\n",
    "\n",
    "It is substantially worse at detecting \"good\" posts, getting very few true positives and many false positives. I would attribute this to the fact that \"good\" writing prompts can be incredibly varied; the purpose of the subreddit itself is to provide a huge range of propmts submitted by anyone and everyone. Thus, narrowing down the key words that make a prompt likely to be upvoted is difficult.\n",
    "\n",
    "Detecting the vocabularly likely to prevent a post from gaining traction or to get it downvoted is slightly easier, as simple things like poor spelling, politics, or offensive content are unlikely to garner widespread appeal"
   ]
  },
  {
   "cell_type": "code",
   "execution_count": 15,
   "id": "aa3a1a35",
   "metadata": {},
   "outputs": [
    {
     "name": "stdout",
     "output_type": "stream",
     "text": [
      "Top features for positive posts:\n",
      "['mindreader', 'whip', 'radically', 'testify', 'seated', 'exclaiming', 'suspense', 'attendants', 'admire', 'evacuation', 'subtly', 'trillions', 'idealistic', 'hatchet', 'cumulative', 'moth', 'gritty', 'democratically', 'wpat', 'reclusive', 'sympathize', 'escalates', 'uploads', 'purchases', 'mythological']\n",
      "\n",
      "Top features for negative posts:\n",
      "['trump', 'covid', 'coronavirus', 'trumps', 'president', 'harambe', 'memes', 'meme', 'hitler', 'pandemic', 'poop', 'rape', 'corona', 'penis', 'feminist', 'ur', 'potus', 'masturbated', 'autism', 'wp', 'fart', 'jones', 'orgasm', 'hitlers', 'cosby']\n"
     ]
    }
   ],
   "source": [
    "# Get most important feature names\n",
    "\n",
    "feature_names = tfidf.get_feature_names()\n",
    "top25pos = np.argsort(model.coef_[0])[-25:]\n",
    "print(\"Top features for positive posts:\")\n",
    "print(list(feature_names[j] for j in top25pos))\n",
    "print()\n",
    "print(\"Top features for negative posts:\")\n",
    "top25neg = np.argsort(model.coef_[0])[:25]\n",
    "print(list(feature_names[j] for j in top25neg))"
   ]
  },
  {
   "cell_type": "markdown",
   "id": "381e3d28",
   "metadata": {},
   "source": [
    "As mentioned above, the features that the model believes are important for positive posts are a random assortment of words without any real connections between them, as \"good\" prompts are incredibly varied.\n",
    "\n",
    "The features for negative posts, however, follow a more common theme. Many are political in nature, specifically mentions of \"Trump,\" \"president,\" \"potus,\" and the like. Several concern more sensitive topics unlikely to garner upvotes. Many are mentions of memes or other more \"crude\" material."
   ]
  },
  {
   "cell_type": "code",
   "execution_count": 16,
   "id": "e632fda8",
   "metadata": {},
   "outputs": [
    {
     "data": {
      "text/plain": [
       "0.5653358361317138"
      ]
     },
     "execution_count": 16,
     "metadata": {},
     "output_type": "execute_result"
    }
   ],
   "source": [
    "model = XGBClassifier()\n",
    "\n",
    "model.fit(X_train, y_train)\n",
    "\n",
    "model.score(X_test, y_test)"
   ]
  },
  {
   "cell_type": "code",
   "execution_count": 17,
   "id": "1e89f193",
   "metadata": {},
   "outputs": [
    {
     "data": {
      "text/plain": [
       "array([[17772, 59155],\n",
       "       [12166, 74990]], dtype=int64)"
      ]
     },
     "execution_count": 17,
     "metadata": {},
     "output_type": "execute_result"
    }
   ],
   "source": [
    "y_pred = model.predict(X_test)\n",
    "\n",
    "confusion_matrix(y_test, y_pred)"
   ]
  },
  {
   "cell_type": "markdown",
   "id": "dedf2602",
   "metadata": {},
   "source": [
    "The XGBoost model appears to have similar faults to the Logistic Regression model, without significant variance in score or confusion matrix."
   ]
  },
  {
   "cell_type": "markdown",
   "id": "82cb3ea2",
   "metadata": {},
   "source": [
    "## Conclusions\n",
    "\n",
    "r/WritingPrompts is, as expected, a subreddit with a myriad of disparate posts. Prompts that succeed don't have many obvious linking themes, as part of the appeal of the subreddit is as a place where any and all kinds of genres and prompts can be explored.\n",
    "\n",
    "In the data, we see how prompts containing \"Hitler\" are unlikely to do well, yet the top post of all time on the subreddit includes the word. The full context of the prompt has overwhelming importance, and it is not just a handful of words that make or break it.\n",
    "\n",
    "Most of the top prompts are very specific in nature, and all detail incredibly different scenarios. It is thus difficult to apply machine learning to attempt to predict the score of a prompt as the entire message of the prompt is more important than singular words.\n",
    "\n",
    "That being said, prompts that are negatively recieved are easier to predict, as although singular words cannot *make* a prompt, they can certainly break it."
   ]
  },
  {
   "cell_type": "code",
   "execution_count": null,
   "id": "ed7332ec",
   "metadata": {},
   "outputs": [],
   "source": []
  }
 ],
 "metadata": {
  "kernelspec": {
   "display_name": "Python 3",
   "language": "python",
   "name": "python3"
  },
  "language_info": {
   "codemirror_mode": {
    "name": "ipython",
    "version": 3
   },
   "file_extension": ".py",
   "mimetype": "text/x-python",
   "name": "python",
   "nbconvert_exporter": "python",
   "pygments_lexer": "ipython3",
   "version": "3.6.5"
  }
 },
 "nbformat": 4,
 "nbformat_minor": 5
}

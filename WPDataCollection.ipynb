{
 "cells": [
  {
   "cell_type": "markdown",
   "id": "0ed65a0b",
   "metadata": {},
   "source": [
    "# Grabbing data from the subreddit r/WritingPrompts using the PushShift API\n",
    "\n",
    "Pushshift documentation: https://github.com/pushshift/api\n",
    "\n",
    "Essentially you specify a url for what kind of data you want and can then download the information from that page"
   ]
  },
  {
   "cell_type": "code",
   "execution_count": 1,
   "id": "5b42f415",
   "metadata": {},
   "outputs": [],
   "source": [
    "# IMPORTS\n",
    "import pandas as pd\n",
    "import requests\n",
    "import time"
   ]
  },
  {
   "cell_type": "code",
   "execution_count": 2,
   "id": "05b85108",
   "metadata": {},
   "outputs": [],
   "source": [
    "# Defining the pushshift endpoint url for r/WritingPrompts posts in general\n",
    "\n",
    "url = \"https://api.pushshift.io/reddit/search/submission/?subreddit=WritingPrompts&limit=100\""
   ]
  },
  {
   "cell_type": "code",
   "execution_count": 3,
   "id": "f7436f78",
   "metadata": {},
   "outputs": [],
   "source": [
    "# Function to save posts from a url and return them in a list\n",
    "def save_url(url):\n",
    "    \n",
    "    # Returns a requests.models.Response object\n",
    "    posts_json = requests.get(url)\n",
    "    \n",
    "    # Returns a dictionary with a single value, \"data\"\n",
    "    posts_dict = posts_json.json()\n",
    "    \n",
    "    # Returns a list of dictionaries, each representing a post\n",
    "    posts_list = posts_dict[\"data\"]\n",
    "    \n",
    "    # Empty list to append info to\n",
    "    list_shortened_dicts = []\n",
    "    \n",
    "    # Append info from each post to the list\n",
    "    for post in posts_list:\n",
    "        list_shortened_dicts.append([post[\"title\"], post[\"created_utc\"], post[\"num_comments\"], post[\"score\"]])\n",
    "        \n",
    "    return list_shortened_dicts"
   ]
  },
  {
   "cell_type": "code",
   "execution_count": 5,
   "id": "43652297",
   "metadata": {},
   "outputs": [],
   "source": [
    "# Set initial timestamp as current unix time\n",
    "timestamp = int(time.time())\n",
    "\n",
    "# Set empty list for loop to append to\n",
    "main_list = []\n",
    "\n",
    "# Set var to keep track of progress - just for troubleshooting\n",
    "count = 0\n",
    "\n",
    "\n",
    "# Loop to continuously grab data from API\n",
    "while True:\n",
    "    \n",
    "    try:\n",
    "        # Create the url w/ the timestamp we want posts from before\n",
    "        before_url = url + f\"&before={timestamp}\"\n",
    "        \n",
    "        # Get the list of posts from the url\n",
    "        posts_list = save_url(before_url)\n",
    "\n",
    "        # If there aren't any more posts, our job is done and we can break from the loop\n",
    "        if len(posts_list) == 0:\n",
    "            break\n",
    "\n",
    "        # Add the new posts to the main list\n",
    "        main_list.extend(posts_list)\n",
    "\n",
    "        # Set the new timestamp to get posts from before equal to the timestamp of the last post we got\n",
    "        timestamp = main_list[-1][1]\n",
    "\n",
    "        # Write the posts to a txt file to save it in case something breaks mid-program\n",
    "        with open(\"master_list_file.txt\", \"a\", encoding=\"utf-8\") as master_list_file:\n",
    "            for post in posts_list:\n",
    "                for val in post:\n",
    "                    master_list_file.write(str(val))\n",
    "                    master_list_file.write(\"\\n\")\n",
    "\n",
    "        # Increment count to track how many loops have run\n",
    "        count += 1\n",
    "        \n",
    "    # Handle exceptions - prevent entire program from breaking, fine if we skip a few posts out of the hundreds of thousands\n",
    "    except Exception as e:\n",
    "        # Print exception\n",
    "        print(\"AN EXCEPTION OCCURED\")\n",
    "        print(e)\n",
    "        \n",
    "        # Wait a few seconds to see if the API was throttling us, then skip an hour just in case\n",
    "        time.sleep(5)\n",
    "        timestamp += 3600\n",
    "        \n",
    "    # Give the API time to recover so it doesn't throttle us\n",
    "    time.sleep(.5)\n",
    "\n",
    "# Create a dataframe out of all the posts\n",
    "df = pd.DataFrame(main_list, columns=[\"title\", \"utc\", \"num_comments\", \"score\"])"
   ]
  },
  {
   "cell_type": "code",
   "execution_count": 8,
   "id": "6d4d4ea1",
   "metadata": {},
   "outputs": [
    {
     "name": "stdout",
     "output_type": "stream",
     "text": [
      "(876845, 4)\n"
     ]
    },
    {
     "data": {
      "text/html": [
       "<div>\n",
       "<style scoped>\n",
       "    .dataframe tbody tr th:only-of-type {\n",
       "        vertical-align: middle;\n",
       "    }\n",
       "\n",
       "    .dataframe tbody tr th {\n",
       "        vertical-align: top;\n",
       "    }\n",
       "\n",
       "    .dataframe thead th {\n",
       "        text-align: right;\n",
       "    }\n",
       "</style>\n",
       "<table border=\"1\" class=\"dataframe\">\n",
       "  <thead>\n",
       "    <tr style=\"text-align: right;\">\n",
       "      <th></th>\n",
       "      <th>title</th>\n",
       "      <th>utc</th>\n",
       "      <th>num_comments</th>\n",
       "      <th>score</th>\n",
       "    </tr>\n",
       "  </thead>\n",
       "  <tbody>\n",
       "    <tr>\n",
       "      <th>0</th>\n",
       "      <td>[WP] Waking up from a hangover, you find yours...</td>\n",
       "      <td>1624815759</td>\n",
       "      <td>1</td>\n",
       "      <td>1</td>\n",
       "    </tr>\n",
       "    <tr>\n",
       "      <th>1</th>\n",
       "      <td>[WP] You are born a pied piper. Playing your i...</td>\n",
       "      <td>1624815706</td>\n",
       "      <td>1</td>\n",
       "      <td>1</td>\n",
       "    </tr>\n",
       "    <tr>\n",
       "      <th>2</th>\n",
       "      <td>[WP] you see a floating countdown over every p...</td>\n",
       "      <td>1624815642</td>\n",
       "      <td>1</td>\n",
       "      <td>1</td>\n",
       "    </tr>\n",
       "    <tr>\n",
       "      <th>3</th>\n",
       "      <td>[WP] You are a traffic light, witnessing human...</td>\n",
       "      <td>1624814841</td>\n",
       "      <td>1</td>\n",
       "      <td>1</td>\n",
       "    </tr>\n",
       "    <tr>\n",
       "      <th>4</th>\n",
       "      <td>Newbie</td>\n",
       "      <td>1624814205</td>\n",
       "      <td>1</td>\n",
       "      <td>1</td>\n",
       "    </tr>\n",
       "  </tbody>\n",
       "</table>\n",
       "</div>"
      ],
      "text/plain": [
       "                                               title         utc  \\\n",
       "0  [WP] Waking up from a hangover, you find yours...  1624815759   \n",
       "1  [WP] You are born a pied piper. Playing your i...  1624815706   \n",
       "2  [WP] you see a floating countdown over every p...  1624815642   \n",
       "3  [WP] You are a traffic light, witnessing human...  1624814841   \n",
       "4                                             Newbie  1624814205   \n",
       "\n",
       "   num_comments  score  \n",
       "0             1      1  \n",
       "1             1      1  \n",
       "2             1      1  \n",
       "3             1      1  \n",
       "4             1      1  "
      ]
     },
     "execution_count": 8,
     "metadata": {},
     "output_type": "execute_result"
    }
   ],
   "source": [
    "# Check to see if dataframe is functional\n",
    "print(df.shape)\n",
    "df.head()"
   ]
  },
  {
   "cell_type": "code",
   "execution_count": 10,
   "id": "7b723524",
   "metadata": {},
   "outputs": [],
   "source": [
    "# Save dataframe to a csv file\n",
    "df.to_csv(\"WPData.csv\")"
   ]
  },
  {
   "cell_type": "code",
   "execution_count": null,
   "id": "7dda4110",
   "metadata": {},
   "outputs": [],
   "source": []
  }
 ],
 "metadata": {
  "kernelspec": {
   "display_name": "Python 3",
   "language": "python",
   "name": "python3"
  },
  "language_info": {
   "codemirror_mode": {
    "name": "ipython",
    "version": 3
   },
   "file_extension": ".py",
   "mimetype": "text/x-python",
   "name": "python",
   "nbconvert_exporter": "python",
   "pygments_lexer": "ipython3",
   "version": "3.6.5"
  }
 },
 "nbformat": 4,
 "nbformat_minor": 5
}
